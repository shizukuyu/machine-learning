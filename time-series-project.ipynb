{
 "cells": [
  {
   "cell_type": "markdown",
   "id": "36c77ce0",
   "metadata": {},
   "source": [
    "# COMP47670 Assignment II Autumn 2023\n",
    "## Time Series Running Data\n",
    "\n",
    "## Objective\n",
    "The objective of this assignment is to identify good models for classifying time series data.  \n",
    "The data is from an accelerometer sensor and there are samples of fatigued and non-fatigued running. The data has been segmented into strides and the segments (samples) are labelled F (fatigued) and NF (not fatigued). The data for two subjects A and B are available in the files  `fatigueA.csv` and  `fatigueB.csv`. This dataset is extracted from a much larger dataset described [here](https://openreview.net/pdf?id=9c0lAonDNP).  \n",
    "At present, the best performing method for time-series classification is [Rocket](https://openreview.net/pdf?id=9c0lAonDNP). \n",
    "A rocket implementation is available in the [sktime tool kit](https://www.sktime.net/en/latest/api_reference/auto_generated/sktime.transformations.panel.rocket.Rocket.html). This sktime implementation can be used in this assignment.   \n",
    "Some code to get you started in available in the notebook `RunningCore`.\n",
    "\n"
   ]
  },
  {
   "cell_type": "code",
   "execution_count": 2,
   "id": "ed655030",
   "metadata": {},
   "outputs": [],
   "source": [
    "import pandas as pd\n",
    "import numpy as np\n",
    "import matplotlib.pyplot as plt\n",
    "from sklearn.linear_model import SGDClassifier\n",
    "from sklearn.model_selection import train_test_split\n",
    "from sklearn.metrics import accuracy_score\n",
    "from sklearn.preprocessing import LabelEncoder\n",
    "from sktime.transformations.panel.rocket import Rocket\n",
    "from sklearn.model_selection import GridSearchCV\n",
    "from sklearn.neural_network import MLPClassifier\n",
    "import warnings\n",
    "\n",
    "warnings.filterwarnings(\"ignore\")"
   ]
  },
  {
   "cell_type": "code",
   "execution_count": 3,
   "id": "fddb22e4",
   "metadata": {},
   "outputs": [
    {
     "name": "stdout",
     "output_type": "stream",
     "text": [
      "(421, 181)\n"
     ]
    },
    {
     "data": {
      "text/html": [
       "<div>\n",
       "<style scoped>\n",
       "    .dataframe tbody tr th:only-of-type {\n",
       "        vertical-align: middle;\n",
       "    }\n",
       "\n",
       "    .dataframe tbody tr th {\n",
       "        vertical-align: top;\n",
       "    }\n",
       "\n",
       "    .dataframe thead th {\n",
       "        text-align: right;\n",
       "    }\n",
       "</style>\n",
       "<table border=\"1\" class=\"dataframe\">\n",
       "  <thead>\n",
       "    <tr style=\"text-align: right;\">\n",
       "      <th></th>\n",
       "      <th>0</th>\n",
       "      <th>1</th>\n",
       "      <th>2</th>\n",
       "      <th>3</th>\n",
       "      <th>4</th>\n",
       "      <th>5</th>\n",
       "      <th>6</th>\n",
       "      <th>7</th>\n",
       "      <th>8</th>\n",
       "      <th>9</th>\n",
       "      <th>...</th>\n",
       "      <th>171</th>\n",
       "      <th>172</th>\n",
       "      <th>173</th>\n",
       "      <th>174</th>\n",
       "      <th>175</th>\n",
       "      <th>176</th>\n",
       "      <th>177</th>\n",
       "      <th>178</th>\n",
       "      <th>179</th>\n",
       "      <th>180</th>\n",
       "    </tr>\n",
       "  </thead>\n",
       "  <tbody>\n",
       "    <tr>\n",
       "      <th>0</th>\n",
       "      <td>F</td>\n",
       "      <td>2.72</td>\n",
       "      <td>2.69</td>\n",
       "      <td>2.75</td>\n",
       "      <td>2.89</td>\n",
       "      <td>3.07</td>\n",
       "      <td>3.27</td>\n",
       "      <td>3.48</td>\n",
       "      <td>3.67</td>\n",
       "      <td>3.82</td>\n",
       "      <td>...</td>\n",
       "      <td>6.50</td>\n",
       "      <td>6.16</td>\n",
       "      <td>5.75</td>\n",
       "      <td>5.29</td>\n",
       "      <td>4.79</td>\n",
       "      <td>4.29</td>\n",
       "      <td>3.83</td>\n",
       "      <td>3.42</td>\n",
       "      <td>3.09</td>\n",
       "      <td>2.85</td>\n",
       "    </tr>\n",
       "    <tr>\n",
       "      <th>1</th>\n",
       "      <td>F</td>\n",
       "      <td>2.68</td>\n",
       "      <td>2.47</td>\n",
       "      <td>2.46</td>\n",
       "      <td>2.54</td>\n",
       "      <td>2.69</td>\n",
       "      <td>2.93</td>\n",
       "      <td>3.36</td>\n",
       "      <td>3.99</td>\n",
       "      <td>4.75</td>\n",
       "      <td>...</td>\n",
       "      <td>2.79</td>\n",
       "      <td>3.88</td>\n",
       "      <td>5.18</td>\n",
       "      <td>6.29</td>\n",
       "      <td>6.88</td>\n",
       "      <td>6.80</td>\n",
       "      <td>6.13</td>\n",
       "      <td>5.11</td>\n",
       "      <td>4.04</td>\n",
       "      <td>3.20</td>\n",
       "    </tr>\n",
       "    <tr>\n",
       "      <th>2</th>\n",
       "      <td>F</td>\n",
       "      <td>5.04</td>\n",
       "      <td>5.69</td>\n",
       "      <td>6.21</td>\n",
       "      <td>6.52</td>\n",
       "      <td>6.59</td>\n",
       "      <td>6.47</td>\n",
       "      <td>6.26</td>\n",
       "      <td>6.06</td>\n",
       "      <td>5.91</td>\n",
       "      <td>...</td>\n",
       "      <td>5.89</td>\n",
       "      <td>5.29</td>\n",
       "      <td>4.72</td>\n",
       "      <td>4.20</td>\n",
       "      <td>3.77</td>\n",
       "      <td>3.47</td>\n",
       "      <td>3.36</td>\n",
       "      <td>3.47</td>\n",
       "      <td>3.82</td>\n",
       "      <td>4.38</td>\n",
       "    </tr>\n",
       "    <tr>\n",
       "      <th>3</th>\n",
       "      <td>F</td>\n",
       "      <td>2.42</td>\n",
       "      <td>3.21</td>\n",
       "      <td>4.02</td>\n",
       "      <td>4.58</td>\n",
       "      <td>4.77</td>\n",
       "      <td>4.64</td>\n",
       "      <td>4.39</td>\n",
       "      <td>4.25</td>\n",
       "      <td>4.42</td>\n",
       "      <td>...</td>\n",
       "      <td>8.60</td>\n",
       "      <td>8.76</td>\n",
       "      <td>8.76</td>\n",
       "      <td>8.32</td>\n",
       "      <td>7.34</td>\n",
       "      <td>5.91</td>\n",
       "      <td>4.33</td>\n",
       "      <td>2.97</td>\n",
       "      <td>2.14</td>\n",
       "      <td>1.98</td>\n",
       "    </tr>\n",
       "    <tr>\n",
       "      <th>4</th>\n",
       "      <td>F</td>\n",
       "      <td>3.35</td>\n",
       "      <td>3.40</td>\n",
       "      <td>3.89</td>\n",
       "      <td>4.71</td>\n",
       "      <td>5.66</td>\n",
       "      <td>6.47</td>\n",
       "      <td>6.90</td>\n",
       "      <td>6.81</td>\n",
       "      <td>6.25</td>\n",
       "      <td>...</td>\n",
       "      <td>9.45</td>\n",
       "      <td>8.52</td>\n",
       "      <td>7.75</td>\n",
       "      <td>7.14</td>\n",
       "      <td>6.63</td>\n",
       "      <td>6.15</td>\n",
       "      <td>5.60</td>\n",
       "      <td>4.96</td>\n",
       "      <td>4.28</td>\n",
       "      <td>3.69</td>\n",
       "    </tr>\n",
       "  </tbody>\n",
       "</table>\n",
       "<p>5 rows × 181 columns</p>\n",
       "</div>"
      ],
      "text/plain": [
       "  0     1     2     3     4     5     6     7     8     9    ...   171   172  \\\n",
       "0   F  2.72  2.69  2.75  2.89  3.07  3.27  3.48  3.67  3.82  ...  6.50  6.16   \n",
       "1   F  2.68  2.47  2.46  2.54  2.69  2.93  3.36  3.99  4.75  ...  2.79  3.88   \n",
       "2   F  5.04  5.69  6.21  6.52  6.59  6.47  6.26  6.06  5.91  ...  5.89  5.29   \n",
       "3   F  2.42  3.21  4.02  4.58  4.77  4.64  4.39  4.25  4.42  ...  8.60  8.76   \n",
       "4   F  3.35  3.40  3.89  4.71  5.66  6.47  6.90  6.81  6.25  ...  9.45  8.52   \n",
       "\n",
       "    173   174   175   176   177   178   179   180  \n",
       "0  5.75  5.29  4.79  4.29  3.83  3.42  3.09  2.85  \n",
       "1  5.18  6.29  6.88  6.80  6.13  5.11  4.04  3.20  \n",
       "2  4.72  4.20  3.77  3.47  3.36  3.47  3.82  4.38  \n",
       "3  8.76  8.32  7.34  5.91  4.33  2.97  2.14  1.98  \n",
       "4  7.75  7.14  6.63  6.15  5.60  4.96  4.28  3.69  \n",
       "\n",
       "[5 rows x 181 columns]"
      ]
     },
     "execution_count": 3,
     "metadata": {},
     "output_type": "execute_result"
    }
   ],
   "source": [
    "fatigue_df = pd.read_csv('fatigueA.csv', header = None) # sep = '\\s+')\n",
    "print(fatigue_df.shape)\n",
    "fatigue_df.head(5)"
   ]
  },
  {
   "cell_type": "code",
   "execution_count": 4,
   "id": "936131c5",
   "metadata": {},
   "outputs": [
    {
     "data": {
      "text/plain": [
       "Text(0, 0.5, 'Accel Mag')"
      ]
     },
     "execution_count": 4,
     "metadata": {},
     "output_type": "execute_result"
    },
    {
     "data": {
      "image/png": "[encoded data removed]",
      "text/plain": [
       "<Figure size 400x300 with 1 Axes>"
      ]
     },
     "metadata": {},
     "output_type": "display_data"
    }
   ],
   "source": [
    "fatigue_df.iloc[4][1:].plot(label='Fatigued')\n",
    "fatigue_df.iloc[-5][1:].plot(figsize=(4,3), label = 'Not Fatigued')\n",
    "plt.legend(loc='upper center', bbox_to_anchor=(0.5, 1.15),ncol=2)\n",
    "plt.ylabel('Accel Mag')\n"
   ]
  },
  {
   "cell_type": "code",
   "execution_count": 5,
   "id": "7f2141ff",
   "metadata": {},
   "outputs": [],
   "source": [
    "y = fatigue_df.pop(0).values\n",
    "X = fatigue_df.values"
   ]
  },
  {
   "cell_type": "markdown",
   "id": "559bdcd9",
   "metadata": {},
   "source": [
    "### Task 1\n",
    "Calculate the accuracy of a logistic regression classifier (`SGDClassifier`) on the raw time series data for subject A. "
   ]
  },
  {
   "cell_type": "code",
   "execution_count": 6,
   "id": "18d0d8b0",
   "metadata": {
    "scrolled": true
   },
   "outputs": [
    {
     "data": {
      "text/plain": [
       "((421, 180), (421,))"
      ]
     },
     "execution_count": 6,
     "metadata": {},
     "output_type": "execute_result"
    }
   ],
   "source": [
    "X.shape, y.shape"
   ]
  },
  {
   "cell_type": "code",
   "execution_count": 7,
   "id": "cc22ef3f",
   "metadata": {},
   "outputs": [
    {
     "name": "stdout",
     "output_type": "stream",
     "text": [
      "Accuracy of the Logistic Regression classifier on fatigue A: 0.69\n"
     ]
    }
   ],
   "source": [
    "label_encoder = LabelEncoder()\n",
    "y = label_encoder.fit_transform(y)\n",
    "\n",
    "X_train, X_test, y_train, y_test = train_test_split(X, y, test_size=0.2, random_state=42)\n",
    "\n",
    "classifier = SGDClassifier(loss='log_loss', random_state=42)\n",
    "classifier.fit(X_train, y_train)\n",
    "y_pred = classifier.predict(X_test)\n",
    "\n",
    "accuracy = accuracy_score(y_test, y_pred)\n",
    "\n",
    "print(f\"Accuracy of the Logistic Regression classifier on fatigue A: {accuracy:.2f}\")"
   ]
  },
  {
   "cell_type": "markdown",
   "id": "53115f94",
   "metadata": {},
   "source": [
    "### Task 2\n",
    "The RunningCore Notebook contains code to convert the data to the `sktime` time-series format. Using this format assess the accuracy of the Rocket transformer coupled with an `SGDClassifier` classifier on the data for subject A. \n"
   ]
  },
  {
   "cell_type": "code",
   "execution_count": 8,
   "id": "ff530507",
   "metadata": {},
   "outputs": [
    {
     "data": {
      "text/plain": [
       "(421, 1, 180)"
      ]
     },
     "execution_count": 8,
     "metadata": {},
     "output_type": "execute_result"
    }
   ],
   "source": [
    "X3d = X[:,np.newaxis,:] # time series algs require a 3D data array (sample, var, tick)\n",
    "X3d.shape"
   ]
  },
  {
   "cell_type": "code",
   "execution_count": 9,
   "id": "af39f3b0",
   "metadata": {},
   "outputs": [
    {
     "name": "stdout",
     "output_type": "stream",
     "text": [
      "Accuracy: 0.9529411764705882\n"
     ]
    }
   ],
   "source": [
    "X_train_x3d, X_test_x3d, y_train, y_test = train_test_split(X3d, y, test_size=0.2, random_state=42)\n",
    "\n",
    "rocket = Rocket()\n",
    "rocket.fit(X_train_x3d)\n",
    "X_train_transform = rocket.transform(X_train_x3d)\n",
    "X_test_transform = rocket.transform(X_test_x3d)\n",
    "\n",
    "classifier.fit(X_train_transform, y_train)\n",
    "#accuracy = classifier.score(X_test_transform, y_test)\n",
    "\n",
    "y_pred = classifier.predict(X_test_transform)\n",
    "accuracy = accuracy_score(y_test, y_pred)\n",
    "print(f'Accuracy: {accuracy}')"
   ]
  },
  {
   "cell_type": "markdown",
   "metadata": {},
   "source": [
    "### Task 3\n",
    "Use StandardScaler\n"
   ]
  },
  {
   "cell_type": "code",
   "execution_count": 73,
   "metadata": {},
   "outputs": [],
   "source": [
    "from sklearn.preprocessing import StandardScaler\n",
    "\n",
    "scaler = StandardScaler()\n",
    "X_train_scaled = scaler.fit_transform(X_train)\n",
    "X_test_scaled = scaler.transform(X_test)"
   ]
  },
  {
   "cell_type": "markdown",
   "metadata": {},
   "source": [
    "1. SGDClassifier"
   ]
  },
  {
   "cell_type": "code",
   "execution_count": 89,
   "metadata": {},
   "outputs": [
    {
     "name": "stdout",
     "output_type": "stream",
     "text": [
      "Accuracy with SGDClassifier: 0.8823529411764706\n"
     ]
    }
   ],
   "source": [
    "classifier = SGDClassifier(loss='log_loss', random_state=42)\n",
    "classifier.fit(X_train_scaled, y_train)\n",
    "\n",
    "y_pred = classifier.predict(X_test_scaled)\n",
    "accuracy_sgd = accuracy_score(y_test, y_pred)\n",
    "\n",
    "print(f\"Accuracy with SGDClassifier: {accuracy_sgd}\")"
   ]
  },
  {
   "cell_type": "code",
   "execution_count": 88,
   "metadata": {},
   "outputs": [
    {
     "name": "stdout",
     "output_type": "stream",
     "text": [
      "Best Hyperparameters: {'alpha': 0.01, 'eta0': 0.2, 'learning_rate': 'adaptive', 'penalty': 'elasticnet'}\n",
      "Accuracy with SGDClassifier: 0.8823529411764706\n"
     ]
    }
   ],
   "source": [
    "from sklearn.model_selection import GridSearchCV\n",
    "\n",
    "param_grid = {\n",
    "    'alpha': [0.0001, 0.001, 0.01, 0.1],\n",
    "    'learning_rate': ['constant', 'optimal', 'invscaling', 'adaptive'],\n",
    "    'eta0': [0.01, 0.1, 0.2],\n",
    "    'penalty': ['l2', 'l1', 'elasticnet']\n",
    "}\n",
    "\n",
    "sgd_classifier = SGDClassifier(loss='log_loss', random_state=42)\n",
    "\n",
    "grid_search = GridSearchCV(sgd_classifier, param_grid, cv=5, scoring='accuracy')\n",
    "grid_search.fit(X_train_scaled, y_train)\n",
    "\n",
    "best_classifier = grid_search.best_estimator_\n",
    "\n",
    "y_pred = best_classifier.predict(X_test_scaled)\n",
    "accuracy_sgd = accuracy_score(y_test, y_pred)\n",
    "\n",
    "print(f\"Best Hyperparameters: {grid_search.best_params_}\")\n",
    "print(f\"Accuracy with SGDClassifier: {accuracy_sgd}\")\n"
   ]
  },
  {
   "cell_type": "code",
   "execution_count": 75,
   "metadata": {},
   "outputs": [
    {
     "name": "stdout",
     "output_type": "stream",
     "text": [
      "Accuracy with Bagging Classifier: 0.8941176470588236\n"
     ]
    }
   ],
   "source": [
    "from sklearn.ensemble import BaggingClassifier\n",
    "\n",
    "ensemble_classifier = BaggingClassifier(classifier, n_estimators=10, random_state=42)\n",
    "ensemble_classifier.fit(X_train_scaled, y_train)\n",
    "\n",
    "y_pred = ensemble_classifier.predict(X_test_scaled)\n",
    "accuracy_bag = accuracy_score(y_test, y_pred)\n",
    "print(f\"Accuracy with Bagging Classifier: {accuracy_bag}\")"
   ]
  },
  {
   "cell_type": "markdown",
   "metadata": {},
   "source": [
    "2. Ramdom Forest Classifier"
   ]
  },
  {
   "cell_type": "code",
   "execution_count": 76,
   "metadata": {},
   "outputs": [
    {
     "name": "stdout",
     "output_type": "stream",
     "text": [
      "Accuracy with Random Forest: 0.9411764705882353\n"
     ]
    }
   ],
   "source": [
    "from sklearn.ensemble import RandomForestClassifier\n",
    "\n",
    "classifier = RandomForestClassifier(random_state=42)\n",
    "classifier.fit(X_train_scaled, y_train)\n",
    "\n",
    "y_pred = classifier.predict(X_test_scaled)\n",
    "accuracy_rf = accuracy_score(y_test, y_pred)\n",
    "\n",
    "print(f\"Accuracy with Random Forest: {accuracy_rf}\")"
   ]
  },
  {
   "cell_type": "code",
   "execution_count": 77,
   "metadata": {},
   "outputs": [
    {
     "name": "stdout",
     "output_type": "stream",
     "text": [
      "Accuracy with Random Forest: 0.9529411764705882\n"
     ]
    }
   ],
   "source": [
    "from sklearn.ensemble import RandomForestClassifier\n",
    "\n",
    "classifier = RandomForestClassifier(n_estimators=100, max_depth=10, min_samples_split=2)\n",
    "classifier.fit(X_train_scaled, y_train)\n",
    "\n",
    "y_pred = classifier.predict(X_test_scaled)\n",
    "accuracy_rf = accuracy_score(y_test, y_pred)\n",
    "\n",
    "print(f\"Accuracy with Random Forest: {accuracy_rf}\")"
   ]
  },
  {
   "cell_type": "markdown",
   "metadata": {},
   "source": [
    "3. Neural Network"
   ]
  },
  {
   "cell_type": "code",
   "execution_count": 80,
   "metadata": {},
   "outputs": [
    {
     "name": "stdout",
     "output_type": "stream",
     "text": [
      "Epoch 1/10\n",
      "11/11 [==============================] - 0s 1ms/step - loss: 0.7556 - accuracy: 0.5833\n",
      "Epoch 2/10\n",
      "11/11 [==============================] - 0s 3ms/step - loss: 0.5084 - accuracy: 0.7619\n",
      "Epoch 3/10\n",
      "11/11 [==============================] - 0s 2ms/step - loss: 0.4086 - accuracy: 0.8125\n",
      "Epoch 4/10\n",
      "11/11 [==============================] - 0s 1ms/step - loss: 0.3465 - accuracy: 0.8542\n",
      "Epoch 5/10\n",
      "11/11 [==============================] - 0s 1ms/step - loss: 0.3150 - accuracy: 0.8810\n",
      "Epoch 6/10\n",
      "11/11 [==============================] - 0s 1ms/step - loss: 0.2694 - accuracy: 0.9167\n",
      "Epoch 7/10\n",
      "11/11 [==============================] - 0s 1ms/step - loss: 0.2518 - accuracy: 0.9256\n",
      "Epoch 8/10\n",
      "11/11 [==============================] - 0s 2ms/step - loss: 0.2235 - accuracy: 0.9375\n",
      "Epoch 9/10\n",
      "11/11 [==============================] - 0s 4ms/step - loss: 0.2042 - accuracy: 0.9464\n",
      "Epoch 10/10\n",
      "11/11 [==============================] - 0s 2ms/step - loss: 0.1895 - accuracy: 0.9494\n",
      "3/3 [==============================] - 0s 3ms/step\n",
      "Accuracy with Neural Network: 0.9411764705882353\n"
     ]
    }
   ],
   "source": [
    "from tensorflow.keras.models import Sequential\n",
    "from tensorflow.keras.layers import Dense\n",
    "\n",
    "model = Sequential([\n",
    "    Dense(64, activation='relu', input_shape=(X_train.shape[1],)),\n",
    "    Dense(1, activation='sigmoid')\n",
    "])\n",
    "\n",
    "model.compile(optimizer='adam', loss='binary_crossentropy', metrics=['accuracy'])\n",
    "model.fit(X_train_scaled, y_train, epochs=10, batch_size=32)\n",
    "\n",
    "y_pred_proba = model.predict(X_test_scaled)\n",
    "y_pred = (y_pred_proba > 0.5).astype(int)\n",
    "accuracy_nn = accuracy_score(y_test, y_pred)\n",
    "print(f\"Accuracy with Neural Network: {accuracy_nn}\")\n"
   ]
  },
  {
   "cell_type": "markdown",
   "metadata": {},
   "source": [
    "4. Support Vector Machines"
   ]
  },
  {
   "cell_type": "code",
   "execution_count": 81,
   "metadata": {},
   "outputs": [
    {
     "name": "stdout",
     "output_type": "stream",
     "text": [
      "Accuracy with Support Vector Machine: 0.9647058823529412\n"
     ]
    }
   ],
   "source": [
    "from sklearn.svm import SVC\n",
    "\n",
    "classifier = SVC(kernel='rbf', random_state=42)  \n",
    "classifier.fit(X_train_scaled, y_train)\n",
    "\n",
    "y_pred = classifier.predict(X_test_scaled)\n",
    "accuracy_svm = accuracy_score(y_test, y_pred)\n",
    "print(f\"Accuracy with Support Vector Machine: {accuracy_svm}\")"
   ]
  },
  {
   "cell_type": "markdown",
   "metadata": {},
   "source": [
    "5. k-Nearest Neighbors "
   ]
  },
  {
   "cell_type": "code",
   "execution_count": 82,
   "metadata": {},
   "outputs": [
    {
     "name": "stdout",
     "output_type": "stream",
     "text": [
      "Accuracy with k-Nearest Neighbors: 0.9294117647058824\n"
     ]
    }
   ],
   "source": [
    "from sklearn.neighbors import KNeighborsClassifier\n",
    "\n",
    "classifier = KNeighborsClassifier(n_neighbors=5)\n",
    "classifier.fit(X_train_scaled, y_train)\n",
    "\n",
    "y_pred = classifier.predict(X_test_scaled)\n",
    "accuracy_knn = accuracy_score(y_test, y_pred)\n",
    "print(f\"Accuracy with k-Nearest Neighbors: {accuracy_knn}\")"
   ]
  },
  {
   "cell_type": "code",
   "execution_count": 86,
   "metadata": {},
   "outputs": [
    {
     "name": "stdout",
     "output_type": "stream",
     "text": [
      "\n",
      "Combined Results:\n",
      "SGDClassifier: 0.8824\n",
      "BaggingClassifier: 0.8941\n",
      "Neural Network: 0.9412\n",
      "SVM: 0.9647\n",
      "Random Forest: 0.9529\n",
      "k-Nearest Neighbors: 0.9294\n",
      "\n",
      "Best Model: SVM with Accuracy: 0.9647\n"
     ]
    }
   ],
   "source": [
    "results = {\n",
    "    \"SGDClassifier\": accuracy_sgd,\n",
    "    \"BaggingClassifier\": accuracy_bag,\n",
    "    \"Neural Network\": accuracy_nn,\n",
    "    \"SVM\": accuracy_svm,\n",
    "    \"Random Forest\": accuracy_rf,\n",
    "    \"k-Nearest Neighbors\": accuracy_knn,\n",
    "}\n",
    "\n",
    "best_model = max(results, key=results.get)\n",
    "print(\"\\nCombined Results:\")\n",
    "for model, accuracy in results.items():\n",
    "    print(f\"{model}: {accuracy:.4f}\")\n",
    "print(f\"\\nBest Model: {best_model} with Accuracy: {results[best_model]:.4f}\")"
   ]
  },
  {
   "cell_type": "markdown",
   "metadata": {},
   "source": [
    "Conclusion: The SVM (Support Vector Machine) model achieved the highest accuracy (96.47%) among the classifiers tested, making it the best-performing model. Other models, such as the Neural Network, Random Forest, Gradient Boosting, SGDClassifier, BaggingClassifier and k-Nearest Neighbors, also demonstrated good performance, but SVM stood out as the most accurate classifier for the given dataset."
   ]
  },
  {
   "cell_type": "markdown",
   "metadata": {},
   "source": [
    "### Task 4\n",
    "Test the Rocket transformer with different numbers of kernels. "
   ]
  },
  {
   "cell_type": "code",
   "execution_count": 19,
   "metadata": {},
   "outputs": [],
   "source": [
    "X_train_x3d, X_test_x3d, y_train, y_test = train_test_split(X3d, y, test_size=0.2, random_state=42)\n",
    "\n",
    "rocket = Rocket()\n",
    "rocket.fit(X_train_x3d)\n",
    "X_train_transform = rocket.transform(X_train_x3d)\n",
    "X_test_transform = rocket.transform(X_test_x3d)"
   ]
  },
  {
   "cell_type": "markdown",
   "metadata": {},
   "source": [
    "1. SGDClassifier"
   ]
  },
  {
   "cell_type": "code",
   "execution_count": 20,
   "metadata": {},
   "outputs": [
    {
     "name": "stdout",
     "output_type": "stream",
     "text": [
      "Accuracy with SGDClassifier: 0.788235294117647\n"
     ]
    }
   ],
   "source": [
    "classifier = SGDClassifier(loss='log_loss', random_state=42)\n",
    "classifier.fit(X_train_transform, y_train)\n",
    "\n",
    "y_pred = classifier.predict(X_test_transform)\n",
    "accuracy_sgd = accuracy_score(y_test, y_pred)\n",
    "\n",
    "print(f\"Accuracy with SGDClassifier: {accuracy_sgd}\")"
   ]
  },
  {
   "cell_type": "code",
   "execution_count": 21,
   "metadata": {},
   "outputs": [
    {
     "name": "stdout",
     "output_type": "stream",
     "text": [
      "Accuracy with Bagging Classifier: 0.9529411764705882\n"
     ]
    }
   ],
   "source": [
    "from sklearn.ensemble import BaggingClassifier\n",
    "\n",
    "ensemble_classifier = BaggingClassifier(classifier, n_estimators=10, random_state=42)\n",
    "ensemble_classifier.fit(X_train_transform, y_train)\n",
    "\n",
    "y_pred = ensemble_classifier.predict(X_test_transform)\n",
    "accuracy_bag = accuracy_score(y_test, y_pred)\n",
    "print(f\"Accuracy with Bagging Classifier: {accuracy_bag}\")"
   ]
  },
  {
   "cell_type": "markdown",
   "metadata": {},
   "source": [
    "2. Ramdom Forest Classifier"
   ]
  },
  {
   "cell_type": "code",
   "execution_count": 22,
   "metadata": {},
   "outputs": [
    {
     "name": "stdout",
     "output_type": "stream",
     "text": [
      "Accuracy with Random Forest: 0.9529411764705882\n"
     ]
    }
   ],
   "source": [
    "from sklearn.ensemble import RandomForestClassifier\n",
    "\n",
    "classifier = RandomForestClassifier(random_state=42)\n",
    "classifier.fit(X_train_transform, y_train)\n",
    "\n",
    "y_pred = classifier.predict(X_test_transform)\n",
    "accuracy_rf = accuracy_score(y_test, y_pred)\n",
    "\n",
    "print(f\"Accuracy with Random Forest: {accuracy_rf}\")"
   ]
  },
  {
   "cell_type": "markdown",
   "metadata": {},
   "source": [
    "3. Neural Network"
   ]
  },
  {
   "cell_type": "code",
   "execution_count": 23,
   "metadata": {},
   "outputs": [
    {
     "name": "stdout",
     "output_type": "stream",
     "text": [
      "Epoch 1/10\n",
      "11/11 [==============================] - 1s 9ms/step - loss: 19.2674 - accuracy: 0.4673\n",
      "Epoch 2/10\n",
      "11/11 [==============================] - 0s 10ms/step - loss: 9.0953 - accuracy: 0.5327\n",
      "Epoch 3/10\n",
      "11/11 [==============================] - 0s 7ms/step - loss: 2.1354 - accuracy: 0.6310\n",
      "Epoch 4/10\n",
      "11/11 [==============================] - 0s 6ms/step - loss: 0.8513 - accuracy: 0.7917\n",
      "Epoch 5/10\n",
      "11/11 [==============================] - 0s 6ms/step - loss: 0.5577 - accuracy: 0.8423\n",
      "Epoch 6/10\n",
      "11/11 [==============================] - 0s 8ms/step - loss: 0.4474 - accuracy: 0.8571\n",
      "Epoch 7/10\n",
      "11/11 [==============================] - 0s 5ms/step - loss: 0.3973 - accuracy: 0.8512\n",
      "Epoch 8/10\n",
      "11/11 [==============================] - 0s 15ms/step - loss: 0.7890 - accuracy: 0.7589\n",
      "Epoch 9/10\n",
      "11/11 [==============================] - 0s 6ms/step - loss: 0.4952 - accuracy: 0.8274\n",
      "Epoch 10/10\n",
      "11/11 [==============================] - 0s 8ms/step - loss: 0.3255 - accuracy: 0.8929\n",
      "3/3 [==============================] - 0s 2ms/step\n",
      "Accuracy with Neural Network: 0.9058823529411765\n"
     ]
    }
   ],
   "source": [
    "from tensorflow.keras.models import Sequential\n",
    "from tensorflow.keras.layers import Dense\n",
    "\n",
    "model = Sequential([\n",
    "    Dense(64, activation='relu', input_shape=(X_train_transform.shape[1],)),\n",
    "    Dense(1, activation='sigmoid')\n",
    "])\n",
    "\n",
    "model.compile(optimizer='adam', loss='binary_crossentropy', metrics=['accuracy'])\n",
    "model.fit(X_train_transform, y_train, epochs=10, batch_size=32)\n",
    "\n",
    "y_pred_proba = model.predict(X_test_transform)\n",
    "y_pred = (y_pred_proba > 0.5).astype(int)\n",
    "accuracy_nn = accuracy_score(y_test, y_pred)\n",
    "print(f\"Accuracy with Neural Network: {accuracy_nn}\")\n"
   ]
  },
  {
   "cell_type": "markdown",
   "metadata": {},
   "source": [
    "4. Support Vector Machines"
   ]
  },
  {
   "cell_type": "code",
   "execution_count": 24,
   "metadata": {},
   "outputs": [
    {
     "name": "stdout",
     "output_type": "stream",
     "text": [
      "Accuracy with Support Vector Machine: 0.8941176470588236\n"
     ]
    }
   ],
   "source": [
    "from sklearn.svm import SVC\n",
    "\n",
    "classifier = SVC(kernel='rbf', random_state=42)  \n",
    "classifier.fit(X_train_transform, y_train)\n",
    "\n",
    "y_pred = classifier.predict(X_test_transform)\n",
    "accuracy_svm = accuracy_score(y_test, y_pred)\n",
    "print(f\"Accuracy with Support Vector Machine: {accuracy_svm}\")"
   ]
  },
  {
   "cell_type": "markdown",
   "metadata": {},
   "source": [
    "5. Gradient Boosting"
   ]
  },
  {
   "cell_type": "code",
   "execution_count": 25,
   "metadata": {},
   "outputs": [
    {
     "name": "stdout",
     "output_type": "stream",
     "text": [
      "Accuracy with Gradient Boosting: 0.9529411764705882\n"
     ]
    }
   ],
   "source": [
    "from sklearn.ensemble import GradientBoostingClassifier\n",
    "from sklearn.metrics import accuracy_score\n",
    "\n",
    "gb_classifier = GradientBoostingClassifier(random_state=42)\n",
    "gb_classifier.fit(X_train_transform, y_train)\n",
    "\n",
    "y_pred_gb = gb_classifier.predict(X_test_transform)\n",
    "accuracy_gb = accuracy_score(y_test, y_pred_gb)\n",
    "print(f\"Accuracy with Gradient Boosting: {accuracy_gb}\")"
   ]
  },
  {
   "cell_type": "code",
   "execution_count": 26,
   "metadata": {},
   "outputs": [
    {
     "name": "stdout",
     "output_type": "stream",
     "text": [
      "\n",
      "Combined Results:\n",
      "SGDClassifier: 0.7882\n",
      "Neural Network: 0.9059\n",
      "SVM: 0.8941\n",
      "Random Forest: 0.9529\n",
      "Gradient Boosting: 0.9529\n",
      "\n",
      "Best Model: Random Forest with Accuracy: 0.9529\n"
     ]
    }
   ],
   "source": [
    "results = {\n",
    "    \"SGDClassifier\": accuracy_sgd,\n",
    "    \"Neural Network\": accuracy_nn,\n",
    "    \"SVM\": accuracy_svm,\n",
    "    \"Random Forest\": accuracy_rf,\n",
    "    \"Gradient Boosting\": accuracy_gb,\n",
    "}\n",
    "\n",
    "best_model = max(results, key=results.get)\n",
    "print(\"\\nCombined Results:\")\n",
    "for model, accuracy in results.items():\n",
    "    print(f\"{model}: {accuracy:.4f}\")\n",
    "print(f\"\\nBest Model: {best_model} with Accuracy: {results[best_model]:.4f}\")"
   ]
  },
  {
   "cell_type": "code",
   "execution_count": 28,
   "metadata": {},
   "outputs": [
    {
     "name": "stdout",
     "output_type": "stream",
     "text": [
      "SGDClassifier Accuracies: [0.8117647058823529, 0.7647058823529411, 0.6705882352941176, 0.8941176470588236, 0.6470588235294118, 0.8470588235294118]\n",
      "Neural Network Accuracies: [0.8235294117647058, 0.8705882352941177, 0.8941176470588236, 0.9647058823529412, 0.8941176470588236, 0.9529411764705882]\n",
      "SVM Accuracies: [0.8235294117647058, 0.7529411764705882, 0.8470588235294118, 0.8941176470588236, 0.8705882352941177, 0.8941176470588236]\n",
      "Random Forest Accuracies: [0.9176470588235294, 0.9058823529411765, 0.9176470588235294, 0.9529411764705882, 0.9529411764705882, 0.9411764705882353]\n"
     ]
    }
   ],
   "source": [
    "X_train_x3d, X_test_x3d, y_train, y_test = train_test_split(X3d, y, test_size=0.2, random_state=42)\n",
    "\n",
    "num_kernels_list = [10,30,50,70,90,110]\n",
    "\n",
    "results = {}\n",
    "\n",
    "for num_kernels in num_kernels_list:\n",
    "    rocket = Rocket(num_kernels=num_kernels)\n",
    "    rocket.fit(X_train_x3d)\n",
    "    \n",
    "    X_train_transform = rocket.transform(X_train_x3d)\n",
    "    X_test_transform = rocket.transform(X_test_x3d)\n",
    "\n",
    "    classifiers = {\n",
    "        \"SGDClassifier\": SGDClassifier(random_state=42),\n",
    "        \"Neural Network\": MLPClassifier(random_state=42),\n",
    "        \"SVM\": SVC(kernel='rbf', random_state=42),\n",
    "        \"Random Forest\": RandomForestClassifier(random_state=42),\n",
    "    }\n",
    "\n",
    "    for classifier_name, classifier in classifiers.items():\n",
    "        classifier.fit(X_train_transform, y_train)\n",
    "        y_pred = classifier.predict(X_test_transform)\n",
    "        accuracy = accuracy_score(y_test, y_pred)\n",
    "        results.setdefault(classifier_name, []).append(accuracy)\n",
    "\n",
    "for classifier_name, accuracies in results.items():\n",
    "    print(f\"{classifier_name} Accuracies: {accuracies}\")\n"
   ]
  },
  {
   "cell_type": "code",
   "execution_count": 30,
   "metadata": {},
   "outputs": [
    {
     "name": "stdout",
     "output_type": "stream",
     "text": [
      "SGDClassifier - Best Accuracy: 0.8941 with num_kernels=70\n",
      "Neural Network - Best Accuracy: 0.9647 with num_kernels=70\n",
      "SVM - Best Accuracy: 0.8941 with num_kernels=70\n",
      "Random Forest - Best Accuracy: 0.9529 with num_kernels=70\n"
     ]
    }
   ],
   "source": [
    "best_accuracies = {}\n",
    "best_num_kernels = {}\n",
    "\n",
    "for classifier_name, accuracies in results.items():\n",
    "    best_accuracy = max(accuracies)\n",
    "    best_index = accuracies.index(best_accuracy)\n",
    "    best_num_kernel = num_kernels_list[best_index]\n",
    "\n",
    "    best_accuracies[classifier_name] = best_accuracy\n",
    "    best_num_kernels[classifier_name] = best_num_kernel\n",
    "\n",
    "for classifier_name, best_accuracy in best_accuracies.items():\n",
    "    best_kernel = best_num_kernels[classifier_name]\n",
    "    print(f\"{classifier_name} - Best Accuracy: {best_accuracy:.4f} with num_kernels={best_kernel}\")"
   ]
  },
  {
   "cell_type": "markdown",
   "metadata": {},
   "source": [
    "In summary, the optimal number of kernels across different classifiers consistently appears to be 70. The Neural Network achieved the highest accuracy among all classifiers at 0.9647, closely followed by the Random Forest classifier, which consistently performed well with accuracies above 0.9. The performance of the SGDClassifier and SVM varied more across runs, and their optimal number of kernels was also found to be 70."
   ]
  },
  {
   "cell_type": "markdown",
   "metadata": {},
   "source": [
    "### Task5"
   ]
  },
  {
   "cell_type": "code",
   "execution_count": 145,
   "metadata": {},
   "outputs": [
    {
     "data": {
      "text/html": [
       "<div>\n",
       "<style scoped>\n",
       "    .dataframe tbody tr th:only-of-type {\n",
       "        vertical-align: middle;\n",
       "    }\n",
       "\n",
       "    .dataframe tbody tr th {\n",
       "        vertical-align: top;\n",
       "    }\n",
       "\n",
       "    .dataframe thead th {\n",
       "        text-align: right;\n",
       "    }\n",
       "</style>\n",
       "<table border=\"1\" class=\"dataframe\">\n",
       "  <thead>\n",
       "    <tr style=\"text-align: right;\">\n",
       "      <th></th>\n",
       "      <th>0</th>\n",
       "      <th>1</th>\n",
       "      <th>2</th>\n",
       "      <th>3</th>\n",
       "      <th>4</th>\n",
       "      <th>5</th>\n",
       "      <th>6</th>\n",
       "      <th>7</th>\n",
       "      <th>8</th>\n",
       "      <th>9</th>\n",
       "      <th>...</th>\n",
       "      <th>171</th>\n",
       "      <th>172</th>\n",
       "      <th>173</th>\n",
       "      <th>174</th>\n",
       "      <th>175</th>\n",
       "      <th>176</th>\n",
       "      <th>177</th>\n",
       "      <th>178</th>\n",
       "      <th>179</th>\n",
       "      <th>180</th>\n",
       "    </tr>\n",
       "  </thead>\n",
       "  <tbody>\n",
       "    <tr>\n",
       "      <th>0</th>\n",
       "      <td>F</td>\n",
       "      <td>1.49</td>\n",
       "      <td>4.09</td>\n",
       "      <td>9.27</td>\n",
       "      <td>12.70</td>\n",
       "      <td>12.80</td>\n",
       "      <td>12.00</td>\n",
       "      <td>12.40</td>\n",
       "      <td>13.20</td>\n",
       "      <td>13.00</td>\n",
       "      <td>...</td>\n",
       "      <td>9.53</td>\n",
       "      <td>9.30</td>\n",
       "      <td>9.61</td>\n",
       "      <td>9.25</td>\n",
       "      <td>8.07</td>\n",
       "      <td>7.62</td>\n",
       "      <td>8.76</td>\n",
       "      <td>9.61</td>\n",
       "      <td>7.63</td>\n",
       "      <td>3.57</td>\n",
       "    </tr>\n",
       "    <tr>\n",
       "      <th>1</th>\n",
       "      <td>F</td>\n",
       "      <td>7.35</td>\n",
       "      <td>7.25</td>\n",
       "      <td>7.80</td>\n",
       "      <td>7.94</td>\n",
       "      <td>7.34</td>\n",
       "      <td>6.48</td>\n",
       "      <td>5.87</td>\n",
       "      <td>5.47</td>\n",
       "      <td>5.20</td>\n",
       "      <td>...</td>\n",
       "      <td>8.92</td>\n",
       "      <td>7.66</td>\n",
       "      <td>7.76</td>\n",
       "      <td>8.28</td>\n",
       "      <td>8.99</td>\n",
       "      <td>10.20</td>\n",
       "      <td>11.60</td>\n",
       "      <td>11.90</td>\n",
       "      <td>10.70</td>\n",
       "      <td>8.72</td>\n",
       "    </tr>\n",
       "    <tr>\n",
       "      <th>2</th>\n",
       "      <td>F</td>\n",
       "      <td>9.31</td>\n",
       "      <td>9.06</td>\n",
       "      <td>9.41</td>\n",
       "      <td>9.51</td>\n",
       "      <td>9.23</td>\n",
       "      <td>9.14</td>\n",
       "      <td>9.08</td>\n",
       "      <td>8.45</td>\n",
       "      <td>7.63</td>\n",
       "      <td>...</td>\n",
       "      <td>11.40</td>\n",
       "      <td>10.50</td>\n",
       "      <td>9.63</td>\n",
       "      <td>9.29</td>\n",
       "      <td>9.75</td>\n",
       "      <td>10.20</td>\n",
       "      <td>10.10</td>\n",
       "      <td>10.10</td>\n",
       "      <td>10.20</td>\n",
       "      <td>10.00</td>\n",
       "    </tr>\n",
       "    <tr>\n",
       "      <th>3</th>\n",
       "      <td>F</td>\n",
       "      <td>9.82</td>\n",
       "      <td>10.50</td>\n",
       "      <td>9.86</td>\n",
       "      <td>10.20</td>\n",
       "      <td>10.90</td>\n",
       "      <td>10.60</td>\n",
       "      <td>9.97</td>\n",
       "      <td>9.50</td>\n",
       "      <td>8.15</td>\n",
       "      <td>...</td>\n",
       "      <td>11.50</td>\n",
       "      <td>10.60</td>\n",
       "      <td>9.07</td>\n",
       "      <td>7.65</td>\n",
       "      <td>6.83</td>\n",
       "      <td>6.67</td>\n",
       "      <td>6.28</td>\n",
       "      <td>5.09</td>\n",
       "      <td>4.77</td>\n",
       "      <td>7.00</td>\n",
       "    </tr>\n",
       "    <tr>\n",
       "      <th>4</th>\n",
       "      <td>F</td>\n",
       "      <td>4.68</td>\n",
       "      <td>3.68</td>\n",
       "      <td>4.63</td>\n",
       "      <td>5.01</td>\n",
       "      <td>4.05</td>\n",
       "      <td>3.40</td>\n",
       "      <td>4.00</td>\n",
       "      <td>4.62</td>\n",
       "      <td>4.25</td>\n",
       "      <td>...</td>\n",
       "      <td>11.90</td>\n",
       "      <td>10.60</td>\n",
       "      <td>11.10</td>\n",
       "      <td>12.90</td>\n",
       "      <td>14.00</td>\n",
       "      <td>13.60</td>\n",
       "      <td>13.00</td>\n",
       "      <td>12.80</td>\n",
       "      <td>11.50</td>\n",
       "      <td>8.12</td>\n",
       "    </tr>\n",
       "    <tr>\n",
       "      <th>...</th>\n",
       "      <td>...</td>\n",
       "      <td>...</td>\n",
       "      <td>...</td>\n",
       "      <td>...</td>\n",
       "      <td>...</td>\n",
       "      <td>...</td>\n",
       "      <td>...</td>\n",
       "      <td>...</td>\n",
       "      <td>...</td>\n",
       "      <td>...</td>\n",
       "      <td>...</td>\n",
       "      <td>...</td>\n",
       "      <td>...</td>\n",
       "      <td>...</td>\n",
       "      <td>...</td>\n",
       "      <td>...</td>\n",
       "      <td>...</td>\n",
       "      <td>...</td>\n",
       "      <td>...</td>\n",
       "      <td>...</td>\n",
       "      <td>...</td>\n",
       "    </tr>\n",
       "    <tr>\n",
       "      <th>246</th>\n",
       "      <td>NF</td>\n",
       "      <td>5.47</td>\n",
       "      <td>5.91</td>\n",
       "      <td>6.08</td>\n",
       "      <td>6.72</td>\n",
       "      <td>8.01</td>\n",
       "      <td>8.76</td>\n",
       "      <td>8.48</td>\n",
       "      <td>8.15</td>\n",
       "      <td>8.23</td>\n",
       "      <td>...</td>\n",
       "      <td>11.00</td>\n",
       "      <td>9.36</td>\n",
       "      <td>9.18</td>\n",
       "      <td>9.72</td>\n",
       "      <td>9.54</td>\n",
       "      <td>8.58</td>\n",
       "      <td>7.64</td>\n",
       "      <td>6.76</td>\n",
       "      <td>5.73</td>\n",
       "      <td>5.18</td>\n",
       "    </tr>\n",
       "    <tr>\n",
       "      <th>247</th>\n",
       "      <td>NF</td>\n",
       "      <td>4.79</td>\n",
       "      <td>5.81</td>\n",
       "      <td>6.82</td>\n",
       "      <td>7.60</td>\n",
       "      <td>8.36</td>\n",
       "      <td>9.01</td>\n",
       "      <td>9.19</td>\n",
       "      <td>9.04</td>\n",
       "      <td>8.79</td>\n",
       "      <td>...</td>\n",
       "      <td>13.70</td>\n",
       "      <td>12.90</td>\n",
       "      <td>11.80</td>\n",
       "      <td>9.63</td>\n",
       "      <td>7.22</td>\n",
       "      <td>5.84</td>\n",
       "      <td>5.64</td>\n",
       "      <td>5.63</td>\n",
       "      <td>5.09</td>\n",
       "      <td>4.53</td>\n",
       "    </tr>\n",
       "    <tr>\n",
       "      <th>248</th>\n",
       "      <td>NF</td>\n",
       "      <td>4.05</td>\n",
       "      <td>4.92</td>\n",
       "      <td>5.89</td>\n",
       "      <td>6.83</td>\n",
       "      <td>7.89</td>\n",
       "      <td>8.74</td>\n",
       "      <td>8.99</td>\n",
       "      <td>8.86</td>\n",
       "      <td>8.60</td>\n",
       "      <td>...</td>\n",
       "      <td>8.02</td>\n",
       "      <td>7.02</td>\n",
       "      <td>6.58</td>\n",
       "      <td>6.33</td>\n",
       "      <td>5.77</td>\n",
       "      <td>4.99</td>\n",
       "      <td>4.51</td>\n",
       "      <td>4.36</td>\n",
       "      <td>4.11</td>\n",
       "      <td>3.80</td>\n",
       "    </tr>\n",
       "    <tr>\n",
       "      <th>249</th>\n",
       "      <td>NF</td>\n",
       "      <td>3.98</td>\n",
       "      <td>4.71</td>\n",
       "      <td>4.72</td>\n",
       "      <td>5.26</td>\n",
       "      <td>6.18</td>\n",
       "      <td>6.55</td>\n",
       "      <td>7.01</td>\n",
       "      <td>7.75</td>\n",
       "      <td>7.50</td>\n",
       "      <td>...</td>\n",
       "      <td>7.68</td>\n",
       "      <td>7.50</td>\n",
       "      <td>6.54</td>\n",
       "      <td>5.74</td>\n",
       "      <td>5.45</td>\n",
       "      <td>5.12</td>\n",
       "      <td>4.64</td>\n",
       "      <td>3.91</td>\n",
       "      <td>2.97</td>\n",
       "      <td>2.90</td>\n",
       "    </tr>\n",
       "    <tr>\n",
       "      <th>250</th>\n",
       "      <td>NF</td>\n",
       "      <td>2.25</td>\n",
       "      <td>2.02</td>\n",
       "      <td>2.81</td>\n",
       "      <td>2.77</td>\n",
       "      <td>2.76</td>\n",
       "      <td>2.86</td>\n",
       "      <td>2.86</td>\n",
       "      <td>3.17</td>\n",
       "      <td>3.58</td>\n",
       "      <td>...</td>\n",
       "      <td>4.06</td>\n",
       "      <td>4.83</td>\n",
       "      <td>4.90</td>\n",
       "      <td>4.75</td>\n",
       "      <td>5.65</td>\n",
       "      <td>5.89</td>\n",
       "      <td>5.43</td>\n",
       "      <td>6.83</td>\n",
       "      <td>8.00</td>\n",
       "      <td>5.46</td>\n",
       "    </tr>\n",
       "  </tbody>\n",
       "</table>\n",
       "<p>251 rows × 181 columns</p>\n",
       "</div>"
      ],
      "text/plain": [
       "    0     1      2     3      4      5      6      7      8      9    ...  \\\n",
       "0     F  1.49   4.09  9.27  12.70  12.80  12.00  12.40  13.20  13.00  ...   \n",
       "1     F  7.35   7.25  7.80   7.94   7.34   6.48   5.87   5.47   5.20  ...   \n",
       "2     F  9.31   9.06  9.41   9.51   9.23   9.14   9.08   8.45   7.63  ...   \n",
       "3     F  9.82  10.50  9.86  10.20  10.90  10.60   9.97   9.50   8.15  ...   \n",
       "4     F  4.68   3.68  4.63   5.01   4.05   3.40   4.00   4.62   4.25  ...   \n",
       "..   ..   ...    ...   ...    ...    ...    ...    ...    ...    ...  ...   \n",
       "246  NF  5.47   5.91  6.08   6.72   8.01   8.76   8.48   8.15   8.23  ...   \n",
       "247  NF  4.79   5.81  6.82   7.60   8.36   9.01   9.19   9.04   8.79  ...   \n",
       "248  NF  4.05   4.92  5.89   6.83   7.89   8.74   8.99   8.86   8.60  ...   \n",
       "249  NF  3.98   4.71  4.72   5.26   6.18   6.55   7.01   7.75   7.50  ...   \n",
       "250  NF  2.25   2.02  2.81   2.77   2.76   2.86   2.86   3.17   3.58  ...   \n",
       "\n",
       "       171    172    173    174    175    176    177    178    179    180  \n",
       "0     9.53   9.30   9.61   9.25   8.07   7.62   8.76   9.61   7.63   3.57  \n",
       "1     8.92   7.66   7.76   8.28   8.99  10.20  11.60  11.90  10.70   8.72  \n",
       "2    11.40  10.50   9.63   9.29   9.75  10.20  10.10  10.10  10.20  10.00  \n",
       "3    11.50  10.60   9.07   7.65   6.83   6.67   6.28   5.09   4.77   7.00  \n",
       "4    11.90  10.60  11.10  12.90  14.00  13.60  13.00  12.80  11.50   8.12  \n",
       "..     ...    ...    ...    ...    ...    ...    ...    ...    ...    ...  \n",
       "246  11.00   9.36   9.18   9.72   9.54   8.58   7.64   6.76   5.73   5.18  \n",
       "247  13.70  12.90  11.80   9.63   7.22   5.84   5.64   5.63   5.09   4.53  \n",
       "248   8.02   7.02   6.58   6.33   5.77   4.99   4.51   4.36   4.11   3.80  \n",
       "249   7.68   7.50   6.54   5.74   5.45   5.12   4.64   3.91   2.97   2.90  \n",
       "250   4.06   4.83   4.90   4.75   5.65   5.89   5.43   6.83   8.00   5.46  \n",
       "\n",
       "[251 rows x 181 columns]"
      ]
     },
     "execution_count": 145,
     "metadata": {},
     "output_type": "execute_result"
    }
   ],
   "source": [
    "fatigue_df2 = pd.read_csv('fatigueB.csv', header = None)\n",
    "fatigue_df2"
   ]
  },
  {
   "cell_type": "code",
   "execution_count": 146,
   "metadata": {},
   "outputs": [],
   "source": [
    "y = fatigue_df2.pop(0).values\n",
    "X = fatigue_df2.values"
   ]
  },
  {
   "cell_type": "markdown",
   "metadata": {},
   "source": [
    "#### Task5-Task3\n",
    "StandardScaler"
   ]
  },
  {
   "cell_type": "code",
   "execution_count": null,
   "metadata": {},
   "outputs": [],
   "source": [
    "label_encoder = LabelEncoder()\n",
    "y = label_encoder.fit_transform(y)\n",
    "\n",
    "X_train, X_test, y_train, y_test = train_test_split(X, y, test_size=0.2, random_state=42)"
   ]
  },
  {
   "cell_type": "code",
   "execution_count": 121,
   "metadata": {},
   "outputs": [],
   "source": [
    "from sklearn.preprocessing import StandardScaler\n",
    "\n",
    "scaler = StandardScaler()\n",
    "X_train_scaled = scaler.fit_transform(X_train)\n",
    "X_test_scaled = scaler.transform(X_test)"
   ]
  },
  {
   "cell_type": "markdown",
   "metadata": {},
   "source": [
    "1. SGDClassifier"
   ]
  },
  {
   "cell_type": "code",
   "execution_count": 122,
   "metadata": {},
   "outputs": [
    {
     "name": "stdout",
     "output_type": "stream",
     "text": [
      "Accuracy with SGDClassifier: 0.803921568627451\n"
     ]
    }
   ],
   "source": [
    "classifier = SGDClassifier(loss='log_loss', random_state=42)\n",
    "classifier.fit(X_train_scaled, y_train)\n",
    "\n",
    "y_pred = classifier.predict(X_test_scaled)\n",
    "accuracy_sgd = accuracy_score(y_test, y_pred)\n",
    "\n",
    "print(f\"Accuracy with SGDClassifier: {accuracy_sgd}\")"
   ]
  },
  {
   "cell_type": "code",
   "execution_count": 123,
   "metadata": {},
   "outputs": [
    {
     "name": "stdout",
     "output_type": "stream",
     "text": [
      "Best Hyperparameters: {'alpha': 0.01, 'eta0': 0.2, 'learning_rate': 'invscaling', 'penalty': 'elasticnet'}\n",
      "Accuracy with SGDClassifier: 0.8627450980392157\n"
     ]
    }
   ],
   "source": [
    "from sklearn.model_selection import GridSearchCV\n",
    "\n",
    "param_grid = {\n",
    "    'alpha': [0.0001, 0.001, 0.01, 0.1],\n",
    "    'learning_rate': ['constant', 'optimal', 'invscaling', 'adaptive'],\n",
    "    'eta0': [0.01, 0.1, 0.2],\n",
    "    'penalty': ['l2', 'l1', 'elasticnet']\n",
    "}\n",
    "\n",
    "sgd_classifier = SGDClassifier(loss='log_loss', random_state=42)\n",
    "\n",
    "grid_search = GridSearchCV(sgd_classifier, param_grid, cv=5, scoring='accuracy')\n",
    "grid_search.fit(X_train_scaled, y_train)\n",
    "\n",
    "best_classifier = grid_search.best_estimator_\n",
    "\n",
    "y_pred = best_classifier.predict(X_test_scaled)\n",
    "accuracy_sgd = accuracy_score(y_test, y_pred)\n",
    "\n",
    "print(f\"Best Hyperparameters: {grid_search.best_params_}\")\n",
    "print(f\"Accuracy with SGDClassifier: {accuracy_sgd}\")\n"
   ]
  },
  {
   "cell_type": "code",
   "execution_count": 124,
   "metadata": {},
   "outputs": [
    {
     "name": "stdout",
     "output_type": "stream",
     "text": [
      "Accuracy with Bagging Classifier: 0.8627450980392157\n"
     ]
    }
   ],
   "source": [
    "from sklearn.ensemble import BaggingClassifier\n",
    "\n",
    "ensemble_classifier = BaggingClassifier(classifier, n_estimators=10, random_state=42)\n",
    "ensemble_classifier.fit(X_train_scaled, y_train)\n",
    "\n",
    "y_pred = ensemble_classifier.predict(X_test_scaled)\n",
    "accuracy_bag = accuracy_score(y_test, y_pred)\n",
    "print(f\"Accuracy with Bagging Classifier: {accuracy_bag}\")"
   ]
  },
  {
   "cell_type": "markdown",
   "metadata": {},
   "source": [
    "2. Ramdom Forest Classifier"
   ]
  },
  {
   "cell_type": "code",
   "execution_count": 125,
   "metadata": {},
   "outputs": [
    {
     "name": "stdout",
     "output_type": "stream",
     "text": [
      "Accuracy with Random Forest: 0.9019607843137255\n"
     ]
    }
   ],
   "source": [
    "from sklearn.ensemble import RandomForestClassifier\n",
    "\n",
    "classifier = RandomForestClassifier(random_state=42)\n",
    "classifier.fit(X_train_scaled, y_train)\n",
    "\n",
    "y_pred = classifier.predict(X_test_scaled)\n",
    "accuracy_rf = accuracy_score(y_test, y_pred)\n",
    "\n",
    "print(f\"Accuracy with Random Forest: {accuracy_rf}\")"
   ]
  },
  {
   "cell_type": "code",
   "execution_count": 126,
   "metadata": {},
   "outputs": [
    {
     "name": "stdout",
     "output_type": "stream",
     "text": [
      "Accuracy with Random Forest: 0.9215686274509803\n"
     ]
    }
   ],
   "source": [
    "from sklearn.ensemble import RandomForestClassifier\n",
    "\n",
    "classifier = RandomForestClassifier(n_estimators=100, max_depth=10, min_samples_split=2)\n",
    "classifier.fit(X_train_scaled, y_train)\n",
    "\n",
    "y_pred = classifier.predict(X_test_scaled)\n",
    "accuracy_rf = accuracy_score(y_test, y_pred)\n",
    "\n",
    "print(f\"Accuracy with Random Forest: {accuracy_rf}\")"
   ]
  },
  {
   "cell_type": "markdown",
   "metadata": {},
   "source": [
    "3. Neural Network"
   ]
  },
  {
   "cell_type": "code",
   "execution_count": 133,
   "metadata": {},
   "outputs": [
    {
     "name": "stdout",
     "output_type": "stream",
     "text": [
      "Epoch 1/10\n",
      "7/7 [==============================] - 0s 3ms/step - loss: 0.6414 - accuracy: 0.6550\n",
      "Epoch 2/10\n",
      "7/7 [==============================] - 0s 2ms/step - loss: 0.4319 - accuracy: 0.8200\n",
      "Epoch 3/10\n",
      "7/7 [==============================] - 0s 4ms/step - loss: 0.3605 - accuracy: 0.8400\n",
      "Epoch 4/10\n",
      "7/7 [==============================] - 0s 7ms/step - loss: 0.2991 - accuracy: 0.8750\n",
      "Epoch 5/10\n",
      "7/7 [==============================] - 0s 6ms/step - loss: 0.2482 - accuracy: 0.9150\n",
      "Epoch 6/10\n",
      "7/7 [==============================] - 0s 3ms/step - loss: 0.2173 - accuracy: 0.9400\n",
      "Epoch 7/10\n",
      "7/7 [==============================] - 0s 5ms/step - loss: 0.1927 - accuracy: 0.9450\n",
      "Epoch 8/10\n",
      "7/7 [==============================] - 0s 3ms/step - loss: 0.1662 - accuracy: 0.9650\n",
      "Epoch 9/10\n",
      "7/7 [==============================] - 0s 2ms/step - loss: 0.1485 - accuracy: 0.9800\n",
      "Epoch 10/10\n",
      "7/7 [==============================] - 0s 2ms/step - loss: 0.1325 - accuracy: 0.9850\n",
      "2/2 [==============================] - 0s 3ms/step\n",
      "Accuracy with Neural Network: 0.8823529411764706\n"
     ]
    }
   ],
   "source": [
    "from tensorflow.keras.models import Sequential\n",
    "from tensorflow.keras.layers import Dense\n",
    "\n",
    "model = Sequential([\n",
    "    Dense(64, activation='relu', input_shape=(X_train.shape[1],)),\n",
    "    Dense(1, activation='sigmoid')\n",
    "])\n",
    "\n",
    "model.compile(optimizer='adam', loss='binary_crossentropy', metrics=['accuracy'])\n",
    "model.fit(X_train_scaled, y_train, epochs=10, batch_size=32)\n",
    "\n",
    "y_pred_proba = model.predict(X_test_scaled)\n",
    "y_pred = (y_pred_proba > 0.5).astype(int)\n",
    "accuracy_nn = accuracy_score(y_test, y_pred)\n",
    "print(f\"Accuracy with Neural Network: {accuracy_nn}\")\n"
   ]
  },
  {
   "cell_type": "markdown",
   "metadata": {},
   "source": [
    "4. Support Vector Machines"
   ]
  },
  {
   "cell_type": "code",
   "execution_count": 140,
   "metadata": {},
   "outputs": [
    {
     "name": "stdout",
     "output_type": "stream",
     "text": [
      "Accuracy with Support Vector Machine: 0.9019607843137255\n"
     ]
    }
   ],
   "source": [
    "from sklearn.svm import SVC\n",
    "\n",
    "classifier = SVC(kernel='rbf', random_state=42)  \n",
    "classifier.fit(X_train_scaled, y_train)\n",
    "\n",
    "y_pred = classifier.predict(X_test_scaled)\n",
    "accuracy_svm = accuracy_score(y_test, y_pred)\n",
    "print(f\"Accuracy with Support Vector Machine: {accuracy_svm}\")"
   ]
  },
  {
   "cell_type": "markdown",
   "metadata": {},
   "source": [
    "5. k-Nearest Neighbors "
   ]
  },
  {
   "cell_type": "code",
   "execution_count": 141,
   "metadata": {},
   "outputs": [
    {
     "name": "stdout",
     "output_type": "stream",
     "text": [
      "Accuracy with 3 neighbors: 0.9019607843137255\n",
      "Accuracy with 5 neighbors: 0.803921568627451\n",
      "Accuracy with 7 neighbors: 0.803921568627451\n",
      "Accuracy with 9 neighbors: 0.7843137254901961\n"
     ]
    }
   ],
   "source": [
    "from sklearn.neighbors import KNeighborsClassifier\n",
    "\n",
    "for n_neighbors in [3, 5, 7, 9]:\n",
    "    knn_classifier = KNeighborsClassifier(n_neighbors=n_neighbors)\n",
    "    knn_classifier.fit(X_train_scaled, y_train)\n",
    "    y_pred = knn_classifier.predict(X_test_scaled)\n",
    "    accuracy = accuracy_score(y_test, y_pred)\n",
    "    print(f\"Accuracy with {n_neighbors} neighbors: {accuracy}\")"
   ]
  },
  {
   "cell_type": "code",
   "execution_count": 142,
   "metadata": {},
   "outputs": [
    {
     "name": "stdout",
     "output_type": "stream",
     "text": [
      "Accuracy with k-Nearest Neighbors: 0.9019607843137255\n"
     ]
    }
   ],
   "source": [
    "classifier = KNeighborsClassifier(n_neighbors=3)\n",
    "classifier.fit(X_train_scaled, y_train)\n",
    "\n",
    "y_pred = classifier.predict(X_test_scaled)\n",
    "accuracy_knn = accuracy_score(y_test, y_pred)\n",
    "print(f\"Accuracy with k-Nearest Neighbors: {accuracy_knn}\")"
   ]
  },
  {
   "cell_type": "code",
   "execution_count": 143,
   "metadata": {},
   "outputs": [
    {
     "name": "stdout",
     "output_type": "stream",
     "text": [
      "\n",
      "Combined Results:\n",
      "SGDClassifier: 0.8627\n",
      "BaggingClassifier: 0.8627\n",
      "Neural Network: 0.8824\n",
      "SVM: 0.9020\n",
      "Random Forest: 0.9216\n",
      "k-Nearest Neighbors: 0.9020\n",
      "\n",
      "Best Model: Random Forest with Accuracy: 0.9216\n"
     ]
    }
   ],
   "source": [
    "results = {\n",
    "    \"SGDClassifier\": accuracy_sgd,\n",
    "    \"BaggingClassifier\": accuracy_bag,\n",
    "    \"Neural Network\": accuracy_nn,\n",
    "    \"SVM\": accuracy_svm,\n",
    "    \"Random Forest\": accuracy_rf,\n",
    "    \"k-Nearest Neighbors\": accuracy_knn,\n",
    "}\n",
    "\n",
    "best_model = max(results, key=results.get)\n",
    "print(\"\\nCombined Results:\")\n",
    "for model, accuracy in results.items():\n",
    "    print(f\"{model}: {accuracy:.4f}\")\n",
    "print(f\"\\nBest Model: {best_model} with Accuracy: {results[best_model]:.4f}\")"
   ]
  },
  {
   "cell_type": "markdown",
   "metadata": {},
   "source": [
    "Random Forest with Accuracy: 0.9216\n",
    "\n",
    "The Random Forest model emerged as the best-performing classifier, outperforming the others with the highest accuracy of 0.9216.\n",
    "In summary, the Random Forest model stands out as the most effective classifier for this dataset, providing the highest accuracy among the models evaluated. It's important to note that the choice of the best model may depend on the specific characteristics of the data and the goals of the analysis."
   ]
  },
  {
   "cell_type": "markdown",
   "metadata": {},
   "source": [
    "Previous result with fatigueB:\n",
    "\n",
    "Combined Results:\n",
    "- SGDClassifier: 0.8824\n",
    "- BaggingClassifier: 0.8941\n",
    "- Neural Network: 0.9412\n",
    "- SVM: 0.9647\n",
    "- Random Forest: 0.9529\n",
    "- k-Nearest Neighbors: 0.9294\n",
    "\n",
    "Best Model: SVM with Accuracy: 0.9647"
   ]
  },
  {
   "cell_type": "markdown",
   "metadata": {},
   "source": [
    "#### Task5-Task4\n",
    "Test the Rocket transformer with different numbers of kernels. "
   ]
  },
  {
   "cell_type": "code",
   "execution_count": 153,
   "metadata": {},
   "outputs": [],
   "source": [
    "X3d = X[:,np.newaxis,:] \n",
    "label_encoder = LabelEncoder()\n",
    "y = label_encoder.fit_transform(y)\n",
    "X_train_x3d, X_test_x3d, y_train, y_test = train_test_split(X3d, y, test_size=0.2, random_state=42)\n",
    "\n",
    "rocket = Rocket()\n",
    "rocket.fit(X_train_x3d)\n",
    "X_train_transform = rocket.transform(X_train_x3d)\n",
    "X_test_transform = rocket.transform(X_test_x3d)"
   ]
  },
  {
   "cell_type": "markdown",
   "metadata": {},
   "source": [
    "1. SGDClassifier"
   ]
  },
  {
   "cell_type": "code",
   "execution_count": 154,
   "metadata": {},
   "outputs": [
    {
     "name": "stdout",
     "output_type": "stream",
     "text": [
      "Accuracy with SGDClassifier: 0.8823529411764706\n"
     ]
    }
   ],
   "source": [
    "classifier = SGDClassifier(loss='log_loss', random_state=42)\n",
    "classifier.fit(X_train_transform, y_train)\n",
    "\n",
    "y_pred = classifier.predict(X_test_transform)\n",
    "accuracy_sgd = accuracy_score(y_test, y_pred)\n",
    "\n",
    "print(f\"Accuracy with SGDClassifier: {accuracy_sgd}\")"
   ]
  },
  {
   "cell_type": "code",
   "execution_count": 155,
   "metadata": {},
   "outputs": [
    {
     "name": "stdout",
     "output_type": "stream",
     "text": [
      "Accuracy with Bagging Classifier: 0.8627450980392157\n"
     ]
    }
   ],
   "source": [
    "from sklearn.ensemble import BaggingClassifier\n",
    "\n",
    "ensemble_classifier = BaggingClassifier(classifier, n_estimators=10, random_state=42)\n",
    "ensemble_classifier.fit(X_train_transform, y_train)\n",
    "\n",
    "y_pred = ensemble_classifier.predict(X_test_transform)\n",
    "accuracy_bag = accuracy_score(y_test, y_pred)\n",
    "print(f\"Accuracy with Bagging Classifier: {accuracy_bag}\")"
   ]
  },
  {
   "cell_type": "markdown",
   "metadata": {},
   "source": [
    "2. Ramdom Forest Classifier"
   ]
  },
  {
   "cell_type": "code",
   "execution_count": 156,
   "metadata": {},
   "outputs": [
    {
     "name": "stdout",
     "output_type": "stream",
     "text": [
      "Accuracy with Random Forest: 0.9215686274509803\n"
     ]
    }
   ],
   "source": [
    "from sklearn.ensemble import RandomForestClassifier\n",
    "\n",
    "classifier = RandomForestClassifier(random_state=42)\n",
    "classifier.fit(X_train_transform, y_train)\n",
    "\n",
    "y_pred = classifier.predict(X_test_transform)\n",
    "accuracy_rf = accuracy_score(y_test, y_pred)\n",
    "\n",
    "print(f\"Accuracy with Random Forest: {accuracy_rf}\")"
   ]
  },
  {
   "cell_type": "markdown",
   "metadata": {},
   "source": [
    "3. Neural Network"
   ]
  },
  {
   "cell_type": "code",
   "execution_count": 158,
   "metadata": {},
   "outputs": [
    {
     "name": "stdout",
     "output_type": "stream",
     "text": [
      "Epoch 1/10\n",
      "7/7 [==============================] - 0s 7ms/step - loss: 13.6565 - accuracy: 0.5500\n",
      "Epoch 2/10\n",
      "7/7 [==============================] - 0s 14ms/step - loss: 0.6885 - accuracy: 0.4850\n",
      "Epoch 3/10\n",
      "7/7 [==============================] - 0s 11ms/step - loss: 0.6931 - accuracy: 0.5000\n",
      "Epoch 4/10\n",
      "7/7 [==============================] - 0s 5ms/step - loss: 0.6932 - accuracy: 0.5000\n",
      "Epoch 5/10\n",
      "7/7 [==============================] - 0s 11ms/step - loss: 0.6932 - accuracy: 0.5000\n",
      "Epoch 6/10\n",
      "7/7 [==============================] - 0s 10ms/step - loss: 0.6932 - accuracy: 0.5000\n",
      "Epoch 7/10\n",
      "7/7 [==============================] - 0s 8ms/step - loss: 0.6932 - accuracy: 0.5000\n",
      "Epoch 8/10\n",
      "7/7 [==============================] - 0s 5ms/step - loss: 0.6932 - accuracy: 0.5000\n",
      "Epoch 9/10\n",
      "7/7 [==============================] - 0s 6ms/step - loss: 0.6932 - accuracy: 0.5000\n",
      "Epoch 10/10\n",
      "7/7 [==============================] - 0s 5ms/step - loss: 0.6932 - accuracy: 0.5000\n",
      "2/2 [==============================] - 0s 2ms/step\n",
      "Accuracy with Neural Network: 0.4117647058823529\n"
     ]
    }
   ],
   "source": [
    "from tensorflow.keras.models import Sequential\n",
    "from tensorflow.keras.layers import Dense\n",
    "\n",
    "model = Sequential([\n",
    "    Dense(64, activation='relu', input_shape=(X_train_transform.shape[1],)),\n",
    "    Dense(1, activation='sigmoid')\n",
    "])\n",
    "\n",
    "model.compile(optimizer='adam', loss='binary_crossentropy', metrics=['accuracy'])\n",
    "model.fit(X_train_transform, y_train, epochs=10, batch_size=32)\n",
    "\n",
    "y_pred_proba = model.predict(X_test_transform)\n",
    "y_pred = (y_pred_proba > 0.5).astype(int)\n",
    "accuracy_nn = accuracy_score(y_test, y_pred)\n",
    "print(f\"Accuracy with Neural Network: {accuracy_nn}\")\n"
   ]
  },
  {
   "cell_type": "code",
   "execution_count": 159,
   "metadata": {},
   "outputs": [
    {
     "name": "stdout",
     "output_type": "stream",
     "text": [
      "Epoch 1/10\n",
      "4/4 [==============================] - 1s 10ms/step - loss: 6.4481 - accuracy: 0.4700\n",
      "Epoch 2/10\n",
      "4/4 [==============================] - 0s 11ms/step - loss: 2.2432 - accuracy: 0.5300\n",
      "Epoch 3/10\n",
      "4/4 [==============================] - 0s 9ms/step - loss: 2.2138 - accuracy: 0.5950\n",
      "Epoch 4/10\n",
      "4/4 [==============================] - 0s 14ms/step - loss: 1.8003 - accuracy: 0.5800\n",
      "Epoch 5/10\n",
      "4/4 [==============================] - 0s 21ms/step - loss: 1.0023 - accuracy: 0.6350\n",
      "Epoch 6/10\n",
      "4/4 [==============================] - 0s 10ms/step - loss: 0.5982 - accuracy: 0.7650\n",
      "Epoch 7/10\n",
      "4/4 [==============================] - 0s 11ms/step - loss: 0.4036 - accuracy: 0.8200\n",
      "Epoch 8/10\n",
      "4/4 [==============================] - 0s 10ms/step - loss: 0.2861 - accuracy: 0.8900\n",
      "Epoch 9/10\n",
      "4/4 [==============================] - 0s 22ms/step - loss: 0.2582 - accuracy: 0.9100\n",
      "Epoch 10/10\n",
      "4/4 [==============================] - 0s 10ms/step - loss: 0.2931 - accuracy: 0.8800\n",
      "2/2 [==============================] - 0s 8ms/step\n",
      "Accuracy with Neural Network: 0.8235294117647058\n"
     ]
    }
   ],
   "source": [
    "model = Sequential([\n",
    "    Dense(128, activation='relu', input_shape=(X_train_transform.shape[1],)),\n",
    "    Dense(64, activation='relu'),\n",
    "    Dense(32, activation='relu'),\n",
    "    Dense(1, activation='sigmoid')\n",
    "])\n",
    "\n",
    "model.compile(optimizer='adam', loss='binary_crossentropy', metrics=['accuracy'])\n",
    "model.fit(X_train_transform, y_train, epochs=10, batch_size=64)\n",
    "y_pred_proba = model.predict(X_test_transform)\n",
    "y_pred = (y_pred_proba > 0.5).astype(int)\n",
    "accuracy_nn = accuracy_score(y_test, y_pred)\n",
    "print(f\"Accuracy with Neural Network: {accuracy_nn}\")"
   ]
  },
  {
   "cell_type": "markdown",
   "metadata": {},
   "source": [
    "4. Support Vector Machines"
   ]
  },
  {
   "cell_type": "code",
   "execution_count": 160,
   "metadata": {},
   "outputs": [
    {
     "name": "stdout",
     "output_type": "stream",
     "text": [
      "Accuracy with Support Vector Machine: 0.803921568627451\n"
     ]
    }
   ],
   "source": [
    "from sklearn.svm import SVC\n",
    "\n",
    "classifier = SVC(kernel='rbf', random_state=42)  \n",
    "classifier.fit(X_train_transform, y_train)\n",
    "\n",
    "y_pred = classifier.predict(X_test_transform)\n",
    "accuracy_svm = accuracy_score(y_test, y_pred)\n",
    "print(f\"Accuracy with Support Vector Machine: {accuracy_svm}\")"
   ]
  },
  {
   "cell_type": "code",
   "execution_count": 161,
   "metadata": {},
   "outputs": [
    {
     "name": "stdout",
     "output_type": "stream",
     "text": [
      "Best Accuracy with Support Vector Machine: 0.9607843137254902\n"
     ]
    }
   ],
   "source": [
    "from sklearn.model_selection import GridSearchCV\n",
    "\n",
    "param_grid_svm = {'C': [0.1, 1, 10], 'kernel': ['linear', 'rbf', 'poly'], 'gamma': ['scale', 'auto']}\n",
    "grid_search_svm = GridSearchCV(SVC(random_state=42), param_grid_svm, cv=5)\n",
    "grid_search_svm.fit(X_train_transform, y_train)\n",
    "\n",
    "best_svm_classifier = grid_search_svm.best_estimator_\n",
    "\n",
    "y_pred_svm = best_svm_classifier.predict(X_test_transform)\n",
    "accuracy_svm = accuracy_score(y_test, y_pred_svm)\n",
    "print(f\"Best Accuracy with Support Vector Machine: {accuracy_svm}\")\n"
   ]
  },
  {
   "cell_type": "markdown",
   "metadata": {},
   "source": [
    "5. Gradient Boosting"
   ]
  },
  {
   "cell_type": "code",
   "execution_count": 162,
   "metadata": {},
   "outputs": [
    {
     "name": "stdout",
     "output_type": "stream",
     "text": [
      "Accuracy with Gradient Boosting: 0.803921568627451\n"
     ]
    }
   ],
   "source": [
    "from sklearn.ensemble import GradientBoostingClassifier\n",
    "from sklearn.metrics import accuracy_score\n",
    "\n",
    "gb_classifier = GradientBoostingClassifier(random_state=42)\n",
    "gb_classifier.fit(X_train_transform, y_train)\n",
    "\n",
    "y_pred_gb = gb_classifier.predict(X_test_transform)\n",
    "accuracy_gb = accuracy_score(y_test, y_pred_gb)\n",
    "print(f\"Accuracy with Gradient Boosting: {accuracy_gb}\")"
   ]
  },
  {
   "cell_type": "code",
   "execution_count": 163,
   "metadata": {},
   "outputs": [
    {
     "name": "stdout",
     "output_type": "stream",
     "text": [
      "\n",
      "Combined Results:\n",
      "SGDClassifier: 0.8824\n",
      "Neural Network: 0.8235\n",
      "SVM: 0.9608\n",
      "Random Forest: 0.9216\n",
      "Gradient Boosting: 0.8039\n",
      "\n",
      "Best Model: SVM with Accuracy: 0.9608\n"
     ]
    }
   ],
   "source": [
    "results = {\n",
    "    \"SGDClassifier\": accuracy_sgd,\n",
    "    \"Neural Network\": accuracy_nn,\n",
    "    \"SVM\": accuracy_svm,\n",
    "    \"Random Forest\": accuracy_rf,\n",
    "    \"Gradient Boosting\": accuracy_gb,\n",
    "}\n",
    "\n",
    "best_model = max(results, key=results.get)\n",
    "print(\"\\nCombined Results:\")\n",
    "for model, accuracy in results.items():\n",
    "    print(f\"{model}: {accuracy:.4f}\")\n",
    "print(f\"\\nBest Model: {best_model} with Accuracy: {results[best_model]:.4f}\")"
   ]
  },
  {
   "cell_type": "code",
   "execution_count": 164,
   "metadata": {},
   "outputs": [
    {
     "name": "stdout",
     "output_type": "stream",
     "text": [
      "SGDClassifier Accuracies: [0.49019607843137253, 0.9411764705882353, 0.7647058823529411, 0.9215686274509803, 0.7450980392156863, 0.7450980392156863]\n",
      "Neural Network Accuracies: [0.7843137254901961, 0.9215686274509803, 0.8431372549019608, 0.8235294117647058, 0.8431372549019608, 0.8235294117647058]\n",
      "SVM Accuracies: [0.7450980392156863, 0.8823529411764706, 0.8235294117647058, 0.803921568627451, 0.7647058823529411, 0.803921568627451]\n",
      "Random Forest Accuracies: [0.8823529411764706, 0.9411764705882353, 0.8823529411764706, 0.9019607843137255, 0.8823529411764706, 0.9215686274509803]\n"
     ]
    }
   ],
   "source": [
    "X_train_x3d, X_test_x3d, y_train, y_test = train_test_split(X3d, y, test_size=0.2, random_state=42)\n",
    "\n",
    "num_kernels_list = [10,30,50,70,90,110]\n",
    "\n",
    "results = {}\n",
    "\n",
    "for num_kernels in num_kernels_list:\n",
    "    rocket = Rocket(num_kernels=num_kernels)\n",
    "    rocket.fit(X_train_x3d)\n",
    "    \n",
    "    X_train_transform = rocket.transform(X_train_x3d)\n",
    "    X_test_transform = rocket.transform(X_test_x3d)\n",
    "\n",
    "    classifiers = {\n",
    "        \"SGDClassifier\": SGDClassifier(random_state=42),\n",
    "        \"Neural Network\": MLPClassifier(random_state=42),\n",
    "        \"SVM\": SVC(kernel='rbf', random_state=42),\n",
    "        \"Random Forest\": RandomForestClassifier(random_state=42),\n",
    "    }\n",
    "\n",
    "    for classifier_name, classifier in classifiers.items():\n",
    "        classifier.fit(X_train_transform, y_train)\n",
    "        y_pred = classifier.predict(X_test_transform)\n",
    "        accuracy = accuracy_score(y_test, y_pred)\n",
    "        results.setdefault(classifier_name, []).append(accuracy)\n",
    "\n",
    "for classifier_name, accuracies in results.items():\n",
    "    print(f\"{classifier_name} Accuracies: {accuracies}\")\n"
   ]
  },
  {
   "cell_type": "code",
   "execution_count": 165,
   "metadata": {},
   "outputs": [
    {
     "name": "stdout",
     "output_type": "stream",
     "text": [
      "SGDClassifier - Best Accuracy: 0.9412 with num_kernels=30\n",
      "Neural Network - Best Accuracy: 0.9216 with num_kernels=30\n",
      "SVM - Best Accuracy: 0.8824 with num_kernels=30\n",
      "Random Forest - Best Accuracy: 0.9412 with num_kernels=30\n"
     ]
    }
   ],
   "source": [
    "best_accuracies = {}\n",
    "best_num_kernels = {}\n",
    "\n",
    "for classifier_name, accuracies in results.items():\n",
    "    best_accuracy = max(accuracies)\n",
    "    best_index = accuracies.index(best_accuracy)\n",
    "    best_num_kernel = num_kernels_list[best_index]\n",
    "\n",
    "    best_accuracies[classifier_name] = best_accuracy\n",
    "    best_num_kernels[classifier_name] = best_num_kernel\n",
    "\n",
    "for classifier_name, best_accuracy in best_accuracies.items():\n",
    "    best_kernel = best_num_kernels[classifier_name]\n",
    "    print(f\"{classifier_name} - Best Accuracy: {best_accuracy:.4f} with num_kernels={best_kernel}\")"
   ]
  },
  {
   "cell_type": "markdown",
   "metadata": {},
   "source": [
    "previous result:"
   ]
  },
  {
   "cell_type": "markdown",
   "metadata": {},
   "source": [
    "- SGDClassifier - Best Accuracy: 0.8941 with num_kernels=70\n",
    "- Neural Network - Best Accuracy: 0.9647 with num_kernels=70\n",
    "- SVM - Best Accuracy: 0.8941 with num_kernels=70\n",
    "- Random Forest - Best Accuracy: 0.9529 with num_kernels=70"
   ]
  },
  {
   "cell_type": "markdown",
   "metadata": {},
   "source": [
    "Conclusion:"
   ]
  },
  {
   "cell_type": "markdown",
   "metadata": {},
   "source": [
    "- The optimal number of kernels varied between the two datasets, suggesting that the characteristics of the datasets impact the choice of this hyperparameter.\n",
    "- The Neural Network showed higher accuracy on fatigueA.csv, while the SGDClassifier performed better on fatigueB.csv.\n",
    "- SVM and Random Forest had comparable performance on both datasets, with minor variations in accuracy."
   ]
  }
 ],
 "metadata": {
  "kernelspec": {
   "display_name": "Python 3 (ipykernel)",
   "language": "python",
   "name": "python3"
  },
  "language_info": {
   "codemirror_mode": {
    "name": "ipython",
    "version": 3
   },
   "file_extension": ".py",
   "mimetype": "text/x-python",
   "name": "python",
   "nbconvert_exporter": "python",
   "pygments_lexer": "ipython3",
   "version": "3.10.7"
  }
 },
 "nbformat": 4,
 "nbformat_minor": 5
}
